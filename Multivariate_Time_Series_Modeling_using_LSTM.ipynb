{
 "cells": [
  {
   "cell_type": "markdown",
   "metadata": {
    "colab_type": "text",
    "id": "view-in-github"
   },
   "source": [
    "<a href=\"https://colab.research.google.com/github/srivatsan88/End-to-End-Time-Series/blob/master/Multivariate_Time_Series_Modeling_using_LSTM.ipynb\" target=\"_parent\"><img src=\"https://colab.research.google.com/assets/colab-badge.svg\" alt=\"Open In Colab\"/></a>"
   ]
  },
  {
   "cell_type": "code",
   "execution_count": 1,
   "metadata": {
    "ExecuteTime": {
     "end_time": "2021-12-02T04:10:51.648122Z",
     "start_time": "2021-12-02T04:10:44.097104Z"
    },
    "id": "_GY3HgVB7T8D"
   },
   "outputs": [],
   "source": [
    "import pandas as pd\n",
    "import matplotlib as mpl\n",
    "import matplotlib.pyplot as plt\n",
    "from sklearn.model_selection import train_test_split\n",
    "from keras.preprocessing.sequence import TimeseriesGenerator\n",
    "from sklearn.preprocessing import MinMaxScaler, StandardScaler\n",
    "import tensorflow as tf\n",
    "\n",
    "mpl.rcParams['figure.figsize'] = (10, 8)\n",
    "mpl.rcParams['axes.grid'] = False"
   ]
  },
  {
   "cell_type": "code",
   "execution_count": 2,
   "metadata": {
    "ExecuteTime": {
     "end_time": "2021-12-02T04:11:00.054164Z",
     "start_time": "2021-12-02T04:10:51.650102Z"
    },
    "id": "lmNbWyCJ7n0a"
   },
   "outputs": [],
   "source": [
    "df = pd.read_csv('https://archive.ics.uci.edu/ml/machine-learning-databases/00374/energydata_complete.csv')"
   ]
  },
  {
   "cell_type": "code",
   "execution_count": 3,
   "metadata": {
    "ExecuteTime": {
     "end_time": "2021-12-02T04:11:00.118125Z",
     "start_time": "2021-12-02T04:11:00.057104Z"
    },
    "colab": {
     "base_uri": "https://localhost:8080/",
     "height": 780
    },
    "id": "4MZJsxPq76CN",
    "outputId": "70a9c286-7397-4692-80e3-3276025eb043"
   },
   "outputs": [
    {
     "data": {
      "text/html": [
       "<div>\n",
       "<style scoped>\n",
       "    .dataframe tbody tr th:only-of-type {\n",
       "        vertical-align: middle;\n",
       "    }\n",
       "\n",
       "    .dataframe tbody tr th {\n",
       "        vertical-align: top;\n",
       "    }\n",
       "\n",
       "    .dataframe thead th {\n",
       "        text-align: right;\n",
       "    }\n",
       "</style>\n",
       "<table border=\"1\" class=\"dataframe\">\n",
       "  <thead>\n",
       "    <tr style=\"text-align: right;\">\n",
       "      <th></th>\n",
       "      <th>date</th>\n",
       "      <th>Appliances</th>\n",
       "      <th>lights</th>\n",
       "      <th>T1</th>\n",
       "      <th>RH_1</th>\n",
       "      <th>T2</th>\n",
       "      <th>RH_2</th>\n",
       "      <th>T3</th>\n",
       "      <th>RH_3</th>\n",
       "      <th>T4</th>\n",
       "      <th>...</th>\n",
       "      <th>T9</th>\n",
       "      <th>RH_9</th>\n",
       "      <th>T_out</th>\n",
       "      <th>Press_mm_hg</th>\n",
       "      <th>RH_out</th>\n",
       "      <th>Windspeed</th>\n",
       "      <th>Visibility</th>\n",
       "      <th>Tdewpoint</th>\n",
       "      <th>rv1</th>\n",
       "      <th>rv2</th>\n",
       "    </tr>\n",
       "  </thead>\n",
       "  <tbody>\n",
       "    <tr>\n",
       "      <th>0</th>\n",
       "      <td>2016-01-11 17:00:00</td>\n",
       "      <td>60</td>\n",
       "      <td>30</td>\n",
       "      <td>19.890000</td>\n",
       "      <td>47.596667</td>\n",
       "      <td>19.200000</td>\n",
       "      <td>44.790000</td>\n",
       "      <td>19.790000</td>\n",
       "      <td>44.730000</td>\n",
       "      <td>19.000000</td>\n",
       "      <td>...</td>\n",
       "      <td>17.033333</td>\n",
       "      <td>45.5300</td>\n",
       "      <td>6.600000</td>\n",
       "      <td>733.5</td>\n",
       "      <td>92.000000</td>\n",
       "      <td>7.000000</td>\n",
       "      <td>63.000000</td>\n",
       "      <td>5.300000</td>\n",
       "      <td>13.275433</td>\n",
       "      <td>13.275433</td>\n",
       "    </tr>\n",
       "    <tr>\n",
       "      <th>1</th>\n",
       "      <td>2016-01-11 17:10:00</td>\n",
       "      <td>60</td>\n",
       "      <td>30</td>\n",
       "      <td>19.890000</td>\n",
       "      <td>46.693333</td>\n",
       "      <td>19.200000</td>\n",
       "      <td>44.722500</td>\n",
       "      <td>19.790000</td>\n",
       "      <td>44.790000</td>\n",
       "      <td>19.000000</td>\n",
       "      <td>...</td>\n",
       "      <td>17.066667</td>\n",
       "      <td>45.5600</td>\n",
       "      <td>6.483333</td>\n",
       "      <td>733.6</td>\n",
       "      <td>92.000000</td>\n",
       "      <td>6.666667</td>\n",
       "      <td>59.166667</td>\n",
       "      <td>5.200000</td>\n",
       "      <td>18.606195</td>\n",
       "      <td>18.606195</td>\n",
       "    </tr>\n",
       "    <tr>\n",
       "      <th>2</th>\n",
       "      <td>2016-01-11 17:20:00</td>\n",
       "      <td>50</td>\n",
       "      <td>30</td>\n",
       "      <td>19.890000</td>\n",
       "      <td>46.300000</td>\n",
       "      <td>19.200000</td>\n",
       "      <td>44.626667</td>\n",
       "      <td>19.790000</td>\n",
       "      <td>44.933333</td>\n",
       "      <td>18.926667</td>\n",
       "      <td>...</td>\n",
       "      <td>17.000000</td>\n",
       "      <td>45.5000</td>\n",
       "      <td>6.366667</td>\n",
       "      <td>733.7</td>\n",
       "      <td>92.000000</td>\n",
       "      <td>6.333333</td>\n",
       "      <td>55.333333</td>\n",
       "      <td>5.100000</td>\n",
       "      <td>28.642668</td>\n",
       "      <td>28.642668</td>\n",
       "    </tr>\n",
       "    <tr>\n",
       "      <th>3</th>\n",
       "      <td>2016-01-11 17:30:00</td>\n",
       "      <td>50</td>\n",
       "      <td>40</td>\n",
       "      <td>19.890000</td>\n",
       "      <td>46.066667</td>\n",
       "      <td>19.200000</td>\n",
       "      <td>44.590000</td>\n",
       "      <td>19.790000</td>\n",
       "      <td>45.000000</td>\n",
       "      <td>18.890000</td>\n",
       "      <td>...</td>\n",
       "      <td>17.000000</td>\n",
       "      <td>45.4000</td>\n",
       "      <td>6.250000</td>\n",
       "      <td>733.8</td>\n",
       "      <td>92.000000</td>\n",
       "      <td>6.000000</td>\n",
       "      <td>51.500000</td>\n",
       "      <td>5.000000</td>\n",
       "      <td>45.410389</td>\n",
       "      <td>45.410389</td>\n",
       "    </tr>\n",
       "    <tr>\n",
       "      <th>4</th>\n",
       "      <td>2016-01-11 17:40:00</td>\n",
       "      <td>60</td>\n",
       "      <td>40</td>\n",
       "      <td>19.890000</td>\n",
       "      <td>46.333333</td>\n",
       "      <td>19.200000</td>\n",
       "      <td>44.530000</td>\n",
       "      <td>19.790000</td>\n",
       "      <td>45.000000</td>\n",
       "      <td>18.890000</td>\n",
       "      <td>...</td>\n",
       "      <td>17.000000</td>\n",
       "      <td>45.4000</td>\n",
       "      <td>6.133333</td>\n",
       "      <td>733.9</td>\n",
       "      <td>92.000000</td>\n",
       "      <td>5.666667</td>\n",
       "      <td>47.666667</td>\n",
       "      <td>4.900000</td>\n",
       "      <td>10.084097</td>\n",
       "      <td>10.084097</td>\n",
       "    </tr>\n",
       "    <tr>\n",
       "      <th>...</th>\n",
       "      <td>...</td>\n",
       "      <td>...</td>\n",
       "      <td>...</td>\n",
       "      <td>...</td>\n",
       "      <td>...</td>\n",
       "      <td>...</td>\n",
       "      <td>...</td>\n",
       "      <td>...</td>\n",
       "      <td>...</td>\n",
       "      <td>...</td>\n",
       "      <td>...</td>\n",
       "      <td>...</td>\n",
       "      <td>...</td>\n",
       "      <td>...</td>\n",
       "      <td>...</td>\n",
       "      <td>...</td>\n",
       "      <td>...</td>\n",
       "      <td>...</td>\n",
       "      <td>...</td>\n",
       "      <td>...</td>\n",
       "      <td>...</td>\n",
       "    </tr>\n",
       "    <tr>\n",
       "      <th>19730</th>\n",
       "      <td>2016-05-27 17:20:00</td>\n",
       "      <td>100</td>\n",
       "      <td>0</td>\n",
       "      <td>25.566667</td>\n",
       "      <td>46.560000</td>\n",
       "      <td>25.890000</td>\n",
       "      <td>42.025714</td>\n",
       "      <td>27.200000</td>\n",
       "      <td>41.163333</td>\n",
       "      <td>24.700000</td>\n",
       "      <td>...</td>\n",
       "      <td>23.200000</td>\n",
       "      <td>46.7900</td>\n",
       "      <td>22.733333</td>\n",
       "      <td>755.2</td>\n",
       "      <td>55.666667</td>\n",
       "      <td>3.333333</td>\n",
       "      <td>23.666667</td>\n",
       "      <td>13.333333</td>\n",
       "      <td>43.096812</td>\n",
       "      <td>43.096812</td>\n",
       "    </tr>\n",
       "    <tr>\n",
       "      <th>19731</th>\n",
       "      <td>2016-05-27 17:30:00</td>\n",
       "      <td>90</td>\n",
       "      <td>0</td>\n",
       "      <td>25.500000</td>\n",
       "      <td>46.500000</td>\n",
       "      <td>25.754000</td>\n",
       "      <td>42.080000</td>\n",
       "      <td>27.133333</td>\n",
       "      <td>41.223333</td>\n",
       "      <td>24.700000</td>\n",
       "      <td>...</td>\n",
       "      <td>23.200000</td>\n",
       "      <td>46.7900</td>\n",
       "      <td>22.600000</td>\n",
       "      <td>755.2</td>\n",
       "      <td>56.000000</td>\n",
       "      <td>3.500000</td>\n",
       "      <td>24.500000</td>\n",
       "      <td>13.300000</td>\n",
       "      <td>49.282940</td>\n",
       "      <td>49.282940</td>\n",
       "    </tr>\n",
       "    <tr>\n",
       "      <th>19732</th>\n",
       "      <td>2016-05-27 17:40:00</td>\n",
       "      <td>270</td>\n",
       "      <td>10</td>\n",
       "      <td>25.500000</td>\n",
       "      <td>46.596667</td>\n",
       "      <td>25.628571</td>\n",
       "      <td>42.768571</td>\n",
       "      <td>27.050000</td>\n",
       "      <td>41.690000</td>\n",
       "      <td>24.700000</td>\n",
       "      <td>...</td>\n",
       "      <td>23.200000</td>\n",
       "      <td>46.7900</td>\n",
       "      <td>22.466667</td>\n",
       "      <td>755.2</td>\n",
       "      <td>56.333333</td>\n",
       "      <td>3.666667</td>\n",
       "      <td>25.333333</td>\n",
       "      <td>13.266667</td>\n",
       "      <td>29.199117</td>\n",
       "      <td>29.199117</td>\n",
       "    </tr>\n",
       "    <tr>\n",
       "      <th>19733</th>\n",
       "      <td>2016-05-27 17:50:00</td>\n",
       "      <td>420</td>\n",
       "      <td>10</td>\n",
       "      <td>25.500000</td>\n",
       "      <td>46.990000</td>\n",
       "      <td>25.414000</td>\n",
       "      <td>43.036000</td>\n",
       "      <td>26.890000</td>\n",
       "      <td>41.290000</td>\n",
       "      <td>24.700000</td>\n",
       "      <td>...</td>\n",
       "      <td>23.200000</td>\n",
       "      <td>46.8175</td>\n",
       "      <td>22.333333</td>\n",
       "      <td>755.2</td>\n",
       "      <td>56.666667</td>\n",
       "      <td>3.833333</td>\n",
       "      <td>26.166667</td>\n",
       "      <td>13.233333</td>\n",
       "      <td>6.322784</td>\n",
       "      <td>6.322784</td>\n",
       "    </tr>\n",
       "    <tr>\n",
       "      <th>19734</th>\n",
       "      <td>2016-05-27 18:00:00</td>\n",
       "      <td>430</td>\n",
       "      <td>10</td>\n",
       "      <td>25.500000</td>\n",
       "      <td>46.600000</td>\n",
       "      <td>25.264286</td>\n",
       "      <td>42.971429</td>\n",
       "      <td>26.823333</td>\n",
       "      <td>41.156667</td>\n",
       "      <td>24.700000</td>\n",
       "      <td>...</td>\n",
       "      <td>23.200000</td>\n",
       "      <td>46.8450</td>\n",
       "      <td>22.200000</td>\n",
       "      <td>755.2</td>\n",
       "      <td>57.000000</td>\n",
       "      <td>4.000000</td>\n",
       "      <td>27.000000</td>\n",
       "      <td>13.200000</td>\n",
       "      <td>34.118851</td>\n",
       "      <td>34.118851</td>\n",
       "    </tr>\n",
       "  </tbody>\n",
       "</table>\n",
       "<p>19735 rows × 29 columns</p>\n",
       "</div>"
      ],
      "text/plain": [
       "                      date  Appliances  lights         T1       RH_1  \\\n",
       "0      2016-01-11 17:00:00          60      30  19.890000  47.596667   \n",
       "1      2016-01-11 17:10:00          60      30  19.890000  46.693333   \n",
       "2      2016-01-11 17:20:00          50      30  19.890000  46.300000   \n",
       "3      2016-01-11 17:30:00          50      40  19.890000  46.066667   \n",
       "4      2016-01-11 17:40:00          60      40  19.890000  46.333333   \n",
       "...                    ...         ...     ...        ...        ...   \n",
       "19730  2016-05-27 17:20:00         100       0  25.566667  46.560000   \n",
       "19731  2016-05-27 17:30:00          90       0  25.500000  46.500000   \n",
       "19732  2016-05-27 17:40:00         270      10  25.500000  46.596667   \n",
       "19733  2016-05-27 17:50:00         420      10  25.500000  46.990000   \n",
       "19734  2016-05-27 18:00:00         430      10  25.500000  46.600000   \n",
       "\n",
       "              T2       RH_2         T3       RH_3         T4  ...         T9  \\\n",
       "0      19.200000  44.790000  19.790000  44.730000  19.000000  ...  17.033333   \n",
       "1      19.200000  44.722500  19.790000  44.790000  19.000000  ...  17.066667   \n",
       "2      19.200000  44.626667  19.790000  44.933333  18.926667  ...  17.000000   \n",
       "3      19.200000  44.590000  19.790000  45.000000  18.890000  ...  17.000000   \n",
       "4      19.200000  44.530000  19.790000  45.000000  18.890000  ...  17.000000   \n",
       "...          ...        ...        ...        ...        ...  ...        ...   \n",
       "19730  25.890000  42.025714  27.200000  41.163333  24.700000  ...  23.200000   \n",
       "19731  25.754000  42.080000  27.133333  41.223333  24.700000  ...  23.200000   \n",
       "19732  25.628571  42.768571  27.050000  41.690000  24.700000  ...  23.200000   \n",
       "19733  25.414000  43.036000  26.890000  41.290000  24.700000  ...  23.200000   \n",
       "19734  25.264286  42.971429  26.823333  41.156667  24.700000  ...  23.200000   \n",
       "\n",
       "          RH_9      T_out  Press_mm_hg     RH_out  Windspeed  Visibility  \\\n",
       "0      45.5300   6.600000        733.5  92.000000   7.000000   63.000000   \n",
       "1      45.5600   6.483333        733.6  92.000000   6.666667   59.166667   \n",
       "2      45.5000   6.366667        733.7  92.000000   6.333333   55.333333   \n",
       "3      45.4000   6.250000        733.8  92.000000   6.000000   51.500000   \n",
       "4      45.4000   6.133333        733.9  92.000000   5.666667   47.666667   \n",
       "...        ...        ...          ...        ...        ...         ...   \n",
       "19730  46.7900  22.733333        755.2  55.666667   3.333333   23.666667   \n",
       "19731  46.7900  22.600000        755.2  56.000000   3.500000   24.500000   \n",
       "19732  46.7900  22.466667        755.2  56.333333   3.666667   25.333333   \n",
       "19733  46.8175  22.333333        755.2  56.666667   3.833333   26.166667   \n",
       "19734  46.8450  22.200000        755.2  57.000000   4.000000   27.000000   \n",
       "\n",
       "       Tdewpoint        rv1        rv2  \n",
       "0       5.300000  13.275433  13.275433  \n",
       "1       5.200000  18.606195  18.606195  \n",
       "2       5.100000  28.642668  28.642668  \n",
       "3       5.000000  45.410389  45.410389  \n",
       "4       4.900000  10.084097  10.084097  \n",
       "...          ...        ...        ...  \n",
       "19730  13.333333  43.096812  43.096812  \n",
       "19731  13.300000  49.282940  49.282940  \n",
       "19732  13.266667  29.199117  29.199117  \n",
       "19733  13.233333   6.322784   6.322784  \n",
       "19734  13.200000  34.118851  34.118851  \n",
       "\n",
       "[19735 rows x 29 columns]"
      ]
     },
     "execution_count": 3,
     "metadata": {},
     "output_type": "execute_result"
    }
   ],
   "source": [
    "df"
   ]
  },
  {
   "cell_type": "markdown",
   "metadata": {
    "id": "3xYLENkY8Pdv"
   },
   "source": [
    "\n",
    "\n",
    "```\n",
    "Attribute Information:\n",
    "\n",
    "date time year-month-day hour:minute:second\n",
    "Appliances, energy use in Wh\n",
    "lights, energy use of light fixtures in the house in Wh\n",
    "T1, Temperature in kitchen area, in Celsius\n",
    "RH_1, Humidity in kitchen area, in %\n",
    "T2, Temperature in living room area, in Celsius\n",
    "RH_2, Humidity in living room area, in %\n",
    "T3, Temperature in laundry room area\n",
    "RH_3, Humidity in laundry room area, in %\n",
    "T4, Temperature in office room, in Celsius\n",
    "RH_4, Humidity in office room, in %\n",
    "T5, Temperature in bathroom, in Celsius\n",
    "RH_5, Humidity in bathroom, in %\n",
    "T6, Temperature outside the building (north side), in Celsius\n",
    "RH_6, Humidity outside the building (north side), in %\n",
    "T7, Temperature in ironing room , in Celsius\n",
    "RH_7, Humidity in ironing room, in %\n",
    "T8, Temperature in teenager room 2, in Celsius\n",
    "RH_8, Humidity in teenager room 2, in %\n",
    "T9, Temperature in parents room, in Celsius\n",
    "RH_9, Humidity in parents room, in %\n",
    "To, Temperature outside (from Chievres weather station), in Celsius\n",
    "Pressure (from Chievres weather station), in mm Hg\n",
    "RH_out, Humidity outside (from Chievres weather station), in %\n",
    "Wind speed (from Chievres weather station), in m/s\n",
    "Visibility (from Chievres weather station), in km\n",
    "Tdewpoint (from Chievres weather station), Â°C\n",
    "rv1, Random variable 1, nondimensional\n",
    "rv2, Random variable 2, nondimensional\n",
    "\n",
    "```\n",
    "\n"
   ]
  },
  {
   "cell_type": "code",
   "execution_count": 4,
   "metadata": {
    "ExecuteTime": {
     "end_time": "2021-12-02T04:11:00.148102Z",
     "start_time": "2021-12-02T04:11:00.121104Z"
    },
    "colab": {
     "base_uri": "https://localhost:8080/",
     "height": 660
    },
    "id": "e_gfpzvA0cJa",
    "outputId": "4583dc1e-5f68-482d-9eed-4adb166dc0de"
   },
   "outputs": [
    {
     "name": "stdout",
     "output_type": "stream",
     "text": [
      "<class 'pandas.core.frame.DataFrame'>\n",
      "RangeIndex: 19735 entries, 0 to 19734\n",
      "Data columns (total 29 columns):\n",
      " #   Column       Non-Null Count  Dtype  \n",
      "---  ------       --------------  -----  \n",
      " 0   date         19735 non-null  object \n",
      " 1   Appliances   19735 non-null  int64  \n",
      " 2   lights       19735 non-null  int64  \n",
      " 3   T1           19735 non-null  float64\n",
      " 4   RH_1         19735 non-null  float64\n",
      " 5   T2           19735 non-null  float64\n",
      " 6   RH_2         19735 non-null  float64\n",
      " 7   T3           19735 non-null  float64\n",
      " 8   RH_3         19735 non-null  float64\n",
      " 9   T4           19735 non-null  float64\n",
      " 10  RH_4         19735 non-null  float64\n",
      " 11  T5           19735 non-null  float64\n",
      " 12  RH_5         19735 non-null  float64\n",
      " 13  T6           19735 non-null  float64\n",
      " 14  RH_6         19735 non-null  float64\n",
      " 15  T7           19735 non-null  float64\n",
      " 16  RH_7         19735 non-null  float64\n",
      " 17  T8           19735 non-null  float64\n",
      " 18  RH_8         19735 non-null  float64\n",
      " 19  T9           19735 non-null  float64\n",
      " 20  RH_9         19735 non-null  float64\n",
      " 21  T_out        19735 non-null  float64\n",
      " 22  Press_mm_hg  19735 non-null  float64\n",
      " 23  RH_out       19735 non-null  float64\n",
      " 24  Windspeed    19735 non-null  float64\n",
      " 25  Visibility   19735 non-null  float64\n",
      " 26  Tdewpoint    19735 non-null  float64\n",
      " 27  rv1          19735 non-null  float64\n",
      " 28  rv2          19735 non-null  float64\n",
      "dtypes: float64(26), int64(2), object(1)\n",
      "memory usage: 4.4+ MB\n"
     ]
    }
   ],
   "source": [
    "df.info()"
   ]
  },
  {
   "cell_type": "code",
   "execution_count": 5,
   "metadata": {
    "ExecuteTime": {
     "end_time": "2021-12-02T04:11:00.180103Z",
     "start_time": "2021-12-02T04:11:00.150109Z"
    },
    "id": "DX4Wjmy08aWn"
   },
   "outputs": [],
   "source": [
    "df['date'] = pd.to_datetime(df['date'], infer_datetime_format=True)"
   ]
  },
  {
   "cell_type": "code",
   "execution_count": 6,
   "metadata": {
    "ExecuteTime": {
     "end_time": "2021-12-02T04:11:02.912101Z",
     "start_time": "2021-12-02T04:11:00.182108Z"
    },
    "colab": {
     "base_uri": "https://localhost:8080/",
     "height": 582
    },
    "id": "6klgmpWq0TJZ",
    "outputId": "8db62616-a14a-4bd2-dfda-4fd6d2e61ddc"
   },
   "outputs": [
    {
     "data": {
      "text/plain": [
       "array([<AxesSubplot:xlabel='date'>, <AxesSubplot:xlabel='date'>,\n",
       "       <AxesSubplot:xlabel='date'>, <AxesSubplot:xlabel='date'>,\n",
       "       <AxesSubplot:xlabel='date'>], dtype=object)"
      ]
     },
     "execution_count": 6,
     "metadata": {},
     "output_type": "execute_result"
    },
    {
     "data": {
      "image/png": "[encoded data removed]",
      "text/plain": [
       "<Figure size 720x576 with 5 Axes>"
      ]
     },
     "metadata": {
      "needs_background": "light"
     },
     "output_type": "display_data"
    }
   ],
   "source": [
    "df.set_index('date')[['Appliances', 'lights','T_out', 'RH_1', 'Visibility']].plot(subplots=True)"
   ]
  },
  {
   "cell_type": "code",
   "execution_count": 7,
   "metadata": {
    "ExecuteTime": {
     "end_time": "2021-12-02T04:11:02.927112Z",
     "start_time": "2021-12-02T04:11:02.914102Z"
    },
    "id": "03LtErv2z8fI"
   },
   "outputs": [],
   "source": [
    "df_input=df[['Appliances','T_out', 'RH_1', 'Visibility']]"
   ]
  },
  {
   "cell_type": "code",
   "execution_count": 8,
   "metadata": {
    "ExecuteTime": {
     "end_time": "2021-12-02T04:11:02.959104Z",
     "start_time": "2021-12-02T04:11:02.931114Z"
    },
    "colab": {
     "base_uri": "https://localhost:8080/",
     "height": 416
    },
    "id": "ZoZI-S5t760x",
    "outputId": "1bf45620-ab12-426b-fe4e-1efcdec3d43c"
   },
   "outputs": [
    {
     "data": {
      "text/html": [
       "<div>\n",
       "<style scoped>\n",
       "    .dataframe tbody tr th:only-of-type {\n",
       "        vertical-align: middle;\n",
       "    }\n",
       "\n",
       "    .dataframe tbody tr th {\n",
       "        vertical-align: top;\n",
       "    }\n",
       "\n",
       "    .dataframe thead th {\n",
       "        text-align: right;\n",
       "    }\n",
       "</style>\n",
       "<table border=\"1\" class=\"dataframe\">\n",
       "  <thead>\n",
       "    <tr style=\"text-align: right;\">\n",
       "      <th></th>\n",
       "      <th>Appliances</th>\n",
       "      <th>T_out</th>\n",
       "      <th>RH_1</th>\n",
       "      <th>Visibility</th>\n",
       "    </tr>\n",
       "  </thead>\n",
       "  <tbody>\n",
       "    <tr>\n",
       "      <th>0</th>\n",
       "      <td>60</td>\n",
       "      <td>6.600000</td>\n",
       "      <td>47.596667</td>\n",
       "      <td>63.000000</td>\n",
       "    </tr>\n",
       "    <tr>\n",
       "      <th>1</th>\n",
       "      <td>60</td>\n",
       "      <td>6.483333</td>\n",
       "      <td>46.693333</td>\n",
       "      <td>59.166667</td>\n",
       "    </tr>\n",
       "    <tr>\n",
       "      <th>2</th>\n",
       "      <td>50</td>\n",
       "      <td>6.366667</td>\n",
       "      <td>46.300000</td>\n",
       "      <td>55.333333</td>\n",
       "    </tr>\n",
       "    <tr>\n",
       "      <th>3</th>\n",
       "      <td>50</td>\n",
       "      <td>6.250000</td>\n",
       "      <td>46.066667</td>\n",
       "      <td>51.500000</td>\n",
       "    </tr>\n",
       "    <tr>\n",
       "      <th>4</th>\n",
       "      <td>60</td>\n",
       "      <td>6.133333</td>\n",
       "      <td>46.333333</td>\n",
       "      <td>47.666667</td>\n",
       "    </tr>\n",
       "    <tr>\n",
       "      <th>...</th>\n",
       "      <td>...</td>\n",
       "      <td>...</td>\n",
       "      <td>...</td>\n",
       "      <td>...</td>\n",
       "    </tr>\n",
       "    <tr>\n",
       "      <th>19730</th>\n",
       "      <td>100</td>\n",
       "      <td>22.733333</td>\n",
       "      <td>46.560000</td>\n",
       "      <td>23.666667</td>\n",
       "    </tr>\n",
       "    <tr>\n",
       "      <th>19731</th>\n",
       "      <td>90</td>\n",
       "      <td>22.600000</td>\n",
       "      <td>46.500000</td>\n",
       "      <td>24.500000</td>\n",
       "    </tr>\n",
       "    <tr>\n",
       "      <th>19732</th>\n",
       "      <td>270</td>\n",
       "      <td>22.466667</td>\n",
       "      <td>46.596667</td>\n",
       "      <td>25.333333</td>\n",
       "    </tr>\n",
       "    <tr>\n",
       "      <th>19733</th>\n",
       "      <td>420</td>\n",
       "      <td>22.333333</td>\n",
       "      <td>46.990000</td>\n",
       "      <td>26.166667</td>\n",
       "    </tr>\n",
       "    <tr>\n",
       "      <th>19734</th>\n",
       "      <td>430</td>\n",
       "      <td>22.200000</td>\n",
       "      <td>46.600000</td>\n",
       "      <td>27.000000</td>\n",
       "    </tr>\n",
       "  </tbody>\n",
       "</table>\n",
       "<p>19735 rows × 4 columns</p>\n",
       "</div>"
      ],
      "text/plain": [
       "       Appliances      T_out       RH_1  Visibility\n",
       "0              60   6.600000  47.596667   63.000000\n",
       "1              60   6.483333  46.693333   59.166667\n",
       "2              50   6.366667  46.300000   55.333333\n",
       "3              50   6.250000  46.066667   51.500000\n",
       "4              60   6.133333  46.333333   47.666667\n",
       "...           ...        ...        ...         ...\n",
       "19730         100  22.733333  46.560000   23.666667\n",
       "19731          90  22.600000  46.500000   24.500000\n",
       "19732         270  22.466667  46.596667   25.333333\n",
       "19733         420  22.333333  46.990000   26.166667\n",
       "19734         430  22.200000  46.600000   27.000000\n",
       "\n",
       "[19735 rows x 4 columns]"
      ]
     },
     "execution_count": 8,
     "metadata": {},
     "output_type": "execute_result"
    }
   ],
   "source": [
    "df_input"
   ]
  },
  {
   "cell_type": "code",
   "execution_count": 9,
   "metadata": {
    "ExecuteTime": {
     "end_time": "2021-12-02T04:11:03.007151Z",
     "start_time": "2021-12-02T04:11:02.963106Z"
    },
    "colab": {
     "base_uri": "https://localhost:8080/",
     "height": 295
    },
    "id": "s3QqtUCsyKLa",
    "outputId": "246287b9-2ca9-431f-aef6-0922beccec2b"
   },
   "outputs": [
    {
     "data": {
      "text/html": [
       "<div>\n",
       "<style scoped>\n",
       "    .dataframe tbody tr th:only-of-type {\n",
       "        vertical-align: middle;\n",
       "    }\n",
       "\n",
       "    .dataframe tbody tr th {\n",
       "        vertical-align: top;\n",
       "    }\n",
       "\n",
       "    .dataframe thead th {\n",
       "        text-align: right;\n",
       "    }\n",
       "</style>\n",
       "<table border=\"1\" class=\"dataframe\">\n",
       "  <thead>\n",
       "    <tr style=\"text-align: right;\">\n",
       "      <th></th>\n",
       "      <th>Appliances</th>\n",
       "      <th>T_out</th>\n",
       "      <th>RH_1</th>\n",
       "      <th>Visibility</th>\n",
       "    </tr>\n",
       "  </thead>\n",
       "  <tbody>\n",
       "    <tr>\n",
       "      <th>count</th>\n",
       "      <td>19735.000000</td>\n",
       "      <td>19735.000000</td>\n",
       "      <td>19735.000000</td>\n",
       "      <td>19735.000000</td>\n",
       "    </tr>\n",
       "    <tr>\n",
       "      <th>mean</th>\n",
       "      <td>97.694958</td>\n",
       "      <td>7.411665</td>\n",
       "      <td>40.259739</td>\n",
       "      <td>38.330834</td>\n",
       "    </tr>\n",
       "    <tr>\n",
       "      <th>std</th>\n",
       "      <td>102.524891</td>\n",
       "      <td>5.317409</td>\n",
       "      <td>3.979299</td>\n",
       "      <td>11.794719</td>\n",
       "    </tr>\n",
       "    <tr>\n",
       "      <th>min</th>\n",
       "      <td>10.000000</td>\n",
       "      <td>-5.000000</td>\n",
       "      <td>27.023333</td>\n",
       "      <td>1.000000</td>\n",
       "    </tr>\n",
       "    <tr>\n",
       "      <th>25%</th>\n",
       "      <td>50.000000</td>\n",
       "      <td>3.666667</td>\n",
       "      <td>37.333333</td>\n",
       "      <td>29.000000</td>\n",
       "    </tr>\n",
       "    <tr>\n",
       "      <th>50%</th>\n",
       "      <td>60.000000</td>\n",
       "      <td>6.916667</td>\n",
       "      <td>39.656667</td>\n",
       "      <td>40.000000</td>\n",
       "    </tr>\n",
       "    <tr>\n",
       "      <th>75%</th>\n",
       "      <td>100.000000</td>\n",
       "      <td>10.408333</td>\n",
       "      <td>43.066667</td>\n",
       "      <td>40.000000</td>\n",
       "    </tr>\n",
       "    <tr>\n",
       "      <th>max</th>\n",
       "      <td>1080.000000</td>\n",
       "      <td>26.100000</td>\n",
       "      <td>63.360000</td>\n",
       "      <td>66.000000</td>\n",
       "    </tr>\n",
       "  </tbody>\n",
       "</table>\n",
       "</div>"
      ],
      "text/plain": [
       "         Appliances         T_out          RH_1    Visibility\n",
       "count  19735.000000  19735.000000  19735.000000  19735.000000\n",
       "mean      97.694958      7.411665     40.259739     38.330834\n",
       "std      102.524891      5.317409      3.979299     11.794719\n",
       "min       10.000000     -5.000000     27.023333      1.000000\n",
       "25%       50.000000      3.666667     37.333333     29.000000\n",
       "50%       60.000000      6.916667     39.656667     40.000000\n",
       "75%      100.000000     10.408333     43.066667     40.000000\n",
       "max     1080.000000     26.100000     63.360000     66.000000"
      ]
     },
     "execution_count": 9,
     "metadata": {},
     "output_type": "execute_result"
    }
   ],
   "source": [
    "df_input.describe()"
   ]
  },
  {
   "cell_type": "code",
   "execution_count": 10,
   "metadata": {
    "ExecuteTime": {
     "end_time": "2021-12-02T04:11:03.039112Z",
     "start_time": "2021-12-02T04:11:03.010106Z"
    },
    "colab": {
     "base_uri": "https://localhost:8080/",
     "height": 416
    },
    "id": "_p2XsCLfyW4C",
    "outputId": "3d8d5dfd-656e-463a-8338-b91b0725e829"
   },
   "outputs": [
    {
     "data": {
      "text/html": [
       "<div>\n",
       "<style scoped>\n",
       "    .dataframe tbody tr th:only-of-type {\n",
       "        vertical-align: middle;\n",
       "    }\n",
       "\n",
       "    .dataframe tbody tr th {\n",
       "        vertical-align: top;\n",
       "    }\n",
       "\n",
       "    .dataframe thead th {\n",
       "        text-align: right;\n",
       "    }\n",
       "</style>\n",
       "<table border=\"1\" class=\"dataframe\">\n",
       "  <thead>\n",
       "    <tr style=\"text-align: right;\">\n",
       "      <th></th>\n",
       "      <th>Appliances</th>\n",
       "      <th>T_out</th>\n",
       "      <th>RH_1</th>\n",
       "      <th>Visibility</th>\n",
       "    </tr>\n",
       "  </thead>\n",
       "  <tbody>\n",
       "    <tr>\n",
       "      <th>11</th>\n",
       "      <td>580</td>\n",
       "      <td>5.983333</td>\n",
       "      <td>46.396667</td>\n",
       "      <td>40.000000</td>\n",
       "    </tr>\n",
       "    <tr>\n",
       "      <th>314</th>\n",
       "      <td>520</td>\n",
       "      <td>2.900000</td>\n",
       "      <td>41.530000</td>\n",
       "      <td>36.333333</td>\n",
       "    </tr>\n",
       "    <tr>\n",
       "      <th>392</th>\n",
       "      <td>550</td>\n",
       "      <td>2.033333</td>\n",
       "      <td>43.433333</td>\n",
       "      <td>40.000000</td>\n",
       "    </tr>\n",
       "    <tr>\n",
       "      <th>393</th>\n",
       "      <td>690</td>\n",
       "      <td>2.100000</td>\n",
       "      <td>43.766667</td>\n",
       "      <td>40.000000</td>\n",
       "    </tr>\n",
       "    <tr>\n",
       "      <th>394</th>\n",
       "      <td>620</td>\n",
       "      <td>2.166667</td>\n",
       "      <td>43.693333</td>\n",
       "      <td>40.000000</td>\n",
       "    </tr>\n",
       "    <tr>\n",
       "      <th>...</th>\n",
       "      <td>...</td>\n",
       "      <td>...</td>\n",
       "      <td>...</td>\n",
       "      <td>...</td>\n",
       "    </tr>\n",
       "    <tr>\n",
       "      <th>19586</th>\n",
       "      <td>600</td>\n",
       "      <td>20.833333</td>\n",
       "      <td>44.066667</td>\n",
       "      <td>40.000000</td>\n",
       "    </tr>\n",
       "    <tr>\n",
       "      <th>19587</th>\n",
       "      <td>520</td>\n",
       "      <td>20.900000</td>\n",
       "      <td>43.366667</td>\n",
       "      <td>40.000000</td>\n",
       "    </tr>\n",
       "    <tr>\n",
       "      <th>19684</th>\n",
       "      <td>580</td>\n",
       "      <td>15.900000</td>\n",
       "      <td>47.226667</td>\n",
       "      <td>61.000000</td>\n",
       "    </tr>\n",
       "    <tr>\n",
       "      <th>19685</th>\n",
       "      <td>660</td>\n",
       "      <td>16.100000</td>\n",
       "      <td>47.693333</td>\n",
       "      <td>61.000000</td>\n",
       "    </tr>\n",
       "    <tr>\n",
       "      <th>19695</th>\n",
       "      <td>620</td>\n",
       "      <td>19.100000</td>\n",
       "      <td>48.326667</td>\n",
       "      <td>64.000000</td>\n",
       "    </tr>\n",
       "  </tbody>\n",
       "</table>\n",
       "<p>288 rows × 4 columns</p>\n",
       "</div>"
      ],
      "text/plain": [
       "       Appliances      T_out       RH_1  Visibility\n",
       "11            580   5.983333  46.396667   40.000000\n",
       "314           520   2.900000  41.530000   36.333333\n",
       "392           550   2.033333  43.433333   40.000000\n",
       "393           690   2.100000  43.766667   40.000000\n",
       "394           620   2.166667  43.693333   40.000000\n",
       "...           ...        ...        ...         ...\n",
       "19586         600  20.833333  44.066667   40.000000\n",
       "19587         520  20.900000  43.366667   40.000000\n",
       "19684         580  15.900000  47.226667   61.000000\n",
       "19685         660  16.100000  47.693333   61.000000\n",
       "19695         620  19.100000  48.326667   64.000000\n",
       "\n",
       "[288 rows x 4 columns]"
      ]
     },
     "execution_count": 10,
     "metadata": {},
     "output_type": "execute_result"
    }
   ],
   "source": [
    "df_input.query(\"Appliances > 500\")"
   ]
  },
  {
   "cell_type": "code",
   "execution_count": 11,
   "metadata": {
    "ExecuteTime": {
     "end_time": "2021-12-02T04:11:03.055101Z",
     "start_time": "2021-12-02T04:11:03.043116Z"
    },
    "id": "gdnkSpWaENYQ"
   },
   "outputs": [],
   "source": [
    "scaler = MinMaxScaler()\n",
    "data_scaled = scaler.fit_transform(df_input)"
   ]
  },
  {
   "cell_type": "code",
   "execution_count": 12,
   "metadata": {
    "ExecuteTime": {
     "end_time": "2021-12-02T04:11:03.071105Z",
     "start_time": "2021-12-02T04:11:03.059105Z"
    },
    "colab": {
     "base_uri": "https://localhost:8080/",
     "height": 142
    },
    "id": "rCY48qWVESHY",
    "outputId": "60ff81c6-3466-4318-ed51-b1834e4c20a9"
   },
   "outputs": [
    {
     "data": {
      "text/plain": [
       "array([[0.04672897, 0.37299035, 0.56618659, 0.95384615],\n",
       "       [0.04672897, 0.36923901, 0.54132648, 0.89487179],\n",
       "       [0.03738318, 0.36548767, 0.53050179, 0.83589744],\n",
       "       ...,\n",
       "       [0.24299065, 0.88317256, 0.53866618, 0.37435897],\n",
       "       [0.38317757, 0.87888532, 0.54949087, 0.38717949],\n",
       "       [0.39252336, 0.87459807, 0.53875791, 0.4       ]])"
      ]
     },
     "execution_count": 12,
     "metadata": {},
     "output_type": "execute_result"
    }
   ],
   "source": [
    "data_scaled"
   ]
  },
  {
   "cell_type": "code",
   "execution_count": 13,
   "metadata": {
    "ExecuteTime": {
     "end_time": "2021-12-02T04:11:03.087126Z",
     "start_time": "2021-12-02T04:11:03.075107Z"
    },
    "id": "IEZuMY99zfLU"
   },
   "outputs": [],
   "source": [
    "features=data_scaled\n",
    "target=data_scaled[:,0]"
   ]
  },
  {
   "cell_type": "code",
   "execution_count": 14,
   "metadata": {
    "ExecuteTime": {
     "end_time": "2021-12-02T04:11:03.103106Z",
     "start_time": "2021-12-02T04:11:03.089104Z"
    },
    "colab": {
     "base_uri": "https://localhost:8080/",
     "height": 71
    },
    "id": "1Ag5wZCs9ZFY",
    "outputId": "765a49c2-17c3-4951-8acb-953568ce208f"
   },
   "outputs": [
    {
     "data": {
      "text/plain": [
       "(array([[[0.04672897, 0.37299035, 0.56618659, 0.95384615],\n",
       "         [0.04672897, 0.36923901, 0.54132648, 0.89487179]]]),\n",
       " array([0.03738318]))"
      ]
     },
     "execution_count": 14,
     "metadata": {},
     "output_type": "execute_result"
    }
   ],
   "source": [
    "TimeseriesGenerator(features, target, length=2, sampling_rate=1, batch_size=1)[0]"
   ]
  },
  {
   "cell_type": "code",
   "execution_count": 15,
   "metadata": {
    "ExecuteTime": {
     "end_time": "2021-12-02T04:11:03.118106Z",
     "start_time": "2021-12-02T04:11:03.106107Z"
    },
    "id": "l3D7t9UA4Juf"
   },
   "outputs": [],
   "source": [
    "x_train, x_test, y_train, y_test = train_test_split(features, target, test_size=0.20, random_state=123, shuffle = False)"
   ]
  },
  {
   "cell_type": "code",
   "execution_count": 16,
   "metadata": {
    "ExecuteTime": {
     "end_time": "2021-12-02T04:11:03.133130Z",
     "start_time": "2021-12-02T04:11:03.120101Z"
    },
    "colab": {
     "base_uri": "https://localhost:8080/",
     "height": 35
    },
    "id": "DLv-nf0rFlLw",
    "outputId": "7e8111e6-467c-4b22-ccdf-0258ee2479fd"
   },
   "outputs": [
    {
     "data": {
      "text/plain": [
       "(15788, 4)"
      ]
     },
     "execution_count": 16,
     "metadata": {},
     "output_type": "execute_result"
    }
   ],
   "source": [
    "x_train.shape"
   ]
  },
  {
   "cell_type": "code",
   "execution_count": 17,
   "metadata": {
    "ExecuteTime": {
     "end_time": "2021-12-02T04:11:03.149103Z",
     "start_time": "2021-12-02T04:11:03.135111Z"
    },
    "colab": {
     "base_uri": "https://localhost:8080/",
     "height": 35
    },
    "id": "Ez0G67QwK_aW",
    "outputId": "cf6ee7d0-7315-4cf3-dcab-431692999d67"
   },
   "outputs": [
    {
     "data": {
      "text/plain": [
       "(3947, 4)"
      ]
     },
     "execution_count": 17,
     "metadata": {},
     "output_type": "execute_result"
    }
   ],
   "source": [
    "x_test.shape"
   ]
  },
  {
   "cell_type": "code",
   "execution_count": 18,
   "metadata": {
    "ExecuteTime": {
     "end_time": "2021-12-02T04:11:03.165115Z",
     "start_time": "2021-12-02T04:11:03.152105Z"
    },
    "id": "XAR9vd-n1MIK"
   },
   "outputs": [],
   "source": [
    "win_length=720\n",
    "batch_size=32\n",
    "num_features=4\n",
    "train_generator = TimeseriesGenerator(x_train, y_train, length=win_length, sampling_rate=1, batch_size=batch_size)\n",
    "test_generator = TimeseriesGenerator(x_test, y_test, length=win_length, sampling_rate=1, batch_size=batch_size)"
   ]
  },
  {
   "cell_type": "code",
   "execution_count": 19,
   "metadata": {
    "ExecuteTime": {
     "end_time": "2021-12-02T04:11:03.195104Z",
     "start_time": "2021-12-02T04:11:03.168109Z"
    },
    "colab": {
     "base_uri": "https://localhost:8080/",
     "height": 1000
    },
    "id": "YW4H0bXV2NwA",
    "outputId": "c084f7c9-4cb6-4118-af77-f3a1882825db"
   },
   "outputs": [
    {
     "data": {
      "text/plain": [
       "(array([[[0.04672897, 0.37299035, 0.56618659, 0.95384615],\n",
       "         [0.04672897, 0.36923901, 0.54132648, 0.89487179],\n",
       "         [0.03738318, 0.36548767, 0.53050179, 0.83589744],\n",
       "         ...,\n",
       "         [0.06542056, 0.25241158, 0.31584258, 0.79230769],\n",
       "         [0.05607477, 0.23901393, 0.31309054, 0.72820513],\n",
       "         [0.06542056, 0.22561629, 0.31107238, 0.66410256]],\n",
       " \n",
       "        [[0.04672897, 0.36923901, 0.54132648, 0.89487179],\n",
       "         [0.03738318, 0.36548767, 0.53050179, 0.83589744],\n",
       "         [0.03738318, 0.36173633, 0.52408036, 0.77692308],\n",
       "         ...,\n",
       "         [0.05607477, 0.23901393, 0.31309054, 0.72820513],\n",
       "         [0.06542056, 0.22561629, 0.31107238, 0.66410256],\n",
       "         [0.06542056, 0.21221865, 0.30923768, 0.6       ]],\n",
       " \n",
       "        [[0.03738318, 0.36548767, 0.53050179, 0.83589744],\n",
       "         [0.03738318, 0.36173633, 0.52408036, 0.77692308],\n",
       "         [0.04672897, 0.35798499, 0.53141914, 0.71794872],\n",
       "         ...,\n",
       "         [0.06542056, 0.22561629, 0.31107238, 0.66410256],\n",
       "         [0.06542056, 0.21221865, 0.30923768, 0.6       ],\n",
       "         [0.13084112, 0.2170418 , 0.3055683 , 0.6       ]],\n",
       " \n",
       "        ...,\n",
       " \n",
       "        [[0.08411215, 0.34297964, 0.50389872, 0.6       ],\n",
       "         [0.09345794, 0.34083601, 0.49821117, 0.6       ],\n",
       "         [0.36448598, 0.34244373, 0.49380791, 0.6       ],\n",
       "         ...,\n",
       "         [0.08411215, 0.17470525, 0.32134667, 0.24615385],\n",
       "         [0.09345794, 0.17524116, 0.31749381, 0.26923077],\n",
       "         [0.09345794, 0.17577706, 0.31400789, 0.29230769]],\n",
       " \n",
       "        [[0.09345794, 0.34083601, 0.49821117, 0.6       ],\n",
       "         [0.36448598, 0.34244373, 0.49380791, 0.6       ],\n",
       "         [0.36448598, 0.34405145, 0.48830383, 0.6       ],\n",
       "         ...,\n",
       "         [0.09345794, 0.17524116, 0.31749381, 0.26923077],\n",
       "         [0.09345794, 0.17577706, 0.31400789, 0.29230769],\n",
       "         [0.1682243 , 0.17631297, 0.31208146, 0.31538462]],\n",
       " \n",
       "        [[0.36448598, 0.34244373, 0.49380791, 0.6       ],\n",
       "         [0.36448598, 0.34405145, 0.48830383, 0.6       ],\n",
       "         [0.35514019, 0.34565916, 0.48261627, 0.6       ],\n",
       "         ...,\n",
       "         [0.09345794, 0.17577706, 0.31400789, 0.29230769],\n",
       "         [0.1682243 , 0.17631297, 0.31208146, 0.31538462],\n",
       "         [0.41121495, 0.17684887, 0.3100633 , 0.33846154]]]),\n",
       " array([0.06542056, 0.13084112, 0.34579439, 0.26168224, 0.24299065,\n",
       "        0.38317757, 0.25233645, 0.27102804, 0.31775701, 0.24299065,\n",
       "        0.51401869, 1.        , 0.69158879, 0.35514019, 0.31775701,\n",
       "        0.30841121, 0.26168224, 0.20560748, 0.10280374, 0.09345794,\n",
       "        0.08411215, 0.09345794, 0.11214953, 0.12149533, 0.09345794,\n",
       "        0.08411215, 0.08411215, 0.09345794, 0.09345794, 0.1682243 ,\n",
       "        0.41121495, 0.18691589]))"
      ]
     },
     "execution_count": 19,
     "metadata": {},
     "output_type": "execute_result"
    }
   ],
   "source": [
    "train_generator[0]"
   ]
  },
  {
   "cell_type": "code",
   "execution_count": 20,
   "metadata": {
    "ExecuteTime": {
     "end_time": "2021-12-02T04:11:04.428099Z",
     "start_time": "2021-12-02T04:11:03.197104Z"
    },
    "id": "P8AvmYYcNyOR"
   },
   "outputs": [],
   "source": [
    "model = tf.keras.Sequential()\n",
    "model.add(tf.keras.layers.LSTM(128, input_shape= (win_length, num_features), return_sequences=True))\n",
    "model.add(tf.keras.layers.LeakyReLU(alpha=0.5)) \n",
    "model.add(tf.keras.layers.LSTM(128, return_sequences=True))\n",
    "model.add(tf.keras.layers.LeakyReLU(alpha=0.5)) \n",
    "model.add(tf.keras.layers.Dropout(0.3)) \n",
    "model.add(tf.keras.layers.LSTM(64, return_sequences=False))\n",
    "model.add(tf.keras.layers.Dropout(0.3)) \n",
    "model.add(tf.keras.layers.Dense(1))"
   ]
  },
  {
   "cell_type": "code",
   "execution_count": 21,
   "metadata": {
    "ExecuteTime": {
     "end_time": "2021-12-02T04:11:04.444103Z",
     "start_time": "2021-12-02T04:11:04.430103Z"
    },
    "colab": {
     "base_uri": "https://localhost:8080/",
     "height": 445
    },
    "id": "2dQ-DlXiLswo",
    "outputId": "f23142e8-1a72-4614-d5ae-a246eda6cddf"
   },
   "outputs": [
    {
     "name": "stdout",
     "output_type": "stream",
     "text": [
      "Model: \"sequential\"\n",
      "_________________________________________________________________\n",
      "Layer (type)                 Output Shape              Param #   \n",
      "=================================================================\n",
      "lstm (LSTM)                  (None, 720, 128)          68096     \n",
      "_________________________________________________________________\n",
      "leaky_re_lu (LeakyReLU)      (None, 720, 128)          0         \n",
      "_________________________________________________________________\n",
      "lstm_1 (LSTM)                (None, 720, 128)          131584    \n",
      "_________________________________________________________________\n",
      "leaky_re_lu_1 (LeakyReLU)    (None, 720, 128)          0         \n",
      "_________________________________________________________________\n",
      "dropout (Dropout)            (None, 720, 128)          0         \n",
      "_________________________________________________________________\n",
      "lstm_2 (LSTM)                (None, 64)                49408     \n",
      "_________________________________________________________________\n",
      "dropout_1 (Dropout)          (None, 64)                0         \n",
      "_________________________________________________________________\n",
      "dense (Dense)                (None, 1)                 65        \n",
      "=================================================================\n",
      "Total params: 249,153\n",
      "Trainable params: 249,153\n",
      "Non-trainable params: 0\n",
      "_________________________________________________________________\n"
     ]
    }
   ],
   "source": [
    "model.summary()"
   ]
  },
  {
   "cell_type": "code",
   "execution_count": 22,
   "metadata": {
    "ExecuteTime": {
     "end_time": "2021-12-02T05:48:22.248096Z",
     "start_time": "2021-12-02T04:11:04.449110Z"
    },
    "colab": {
     "base_uri": "https://localhost:8080/",
     "height": 448
    },
    "id": "JHnl-d8824y0",
    "outputId": "900e0c0e-c08c-4a35-bd47-c02cd8fcc357"
   },
   "outputs": [
    {
     "name": "stderr",
     "output_type": "stream",
     "text": [
      "C:\\Users\\Admin\\anaconda3\\lib\\site-packages\\keras\\engine\\training.py:1972: UserWarning: `Model.fit_generator` is deprecated and will be removed in a future version. Please use `Model.fit`, which supports generators.\n",
      "  warnings.warn('`Model.fit_generator` is deprecated and '\n"
     ]
    },
    {
     "name": "stdout",
     "output_type": "stream",
     "text": [
      "Epoch 1/50\n",
      "471/471 [==============================] - 842s 2s/step - loss: 0.0085 - mean_absolute_error: 0.0511 - val_loss: 0.0057 - val_mean_absolute_error: 0.0464\n",
      "Epoch 2/50\n",
      "471/471 [==============================] - 915s 2s/step - loss: 0.0066 - mean_absolute_error: 0.0423 - val_loss: 0.0044 - val_mean_absolute_error: 0.0367\n",
      "Epoch 3/50\n",
      "471/471 [==============================] - 903s 2s/step - loss: 0.0048 - mean_absolute_error: 0.0349 - val_loss: 0.0034 - val_mean_absolute_error: 0.0327\n",
      "Epoch 4/50\n",
      "471/471 [==============================] - 858s 2s/step - loss: 0.0043 - mean_absolute_error: 0.0324 - val_loss: 0.0033 - val_mean_absolute_error: 0.0287\n",
      "Epoch 5/50\n",
      "471/471 [==============================] - 837s 2s/step - loss: 0.0042 - mean_absolute_error: 0.0318 - val_loss: 0.0032 - val_mean_absolute_error: 0.0262\n",
      "Epoch 6/50\n",
      "471/471 [==============================] - 762s 2s/step - loss: 0.0041 - mean_absolute_error: 0.0312 - val_loss: 0.0032 - val_mean_absolute_error: 0.0276\n",
      "Epoch 7/50\n",
      "471/471 [==============================] - 720s 2s/step - loss: 0.0040 - mean_absolute_error: 0.0312 - val_loss: 0.0032 - val_mean_absolute_error: 0.0295\n"
     ]
    }
   ],
   "source": [
    "early_stopping = tf.keras.callbacks.EarlyStopping(monitor='val_loss',\n",
    "                                                    patience=2,\n",
    "                                                    mode='min')\n",
    "\n",
    "model.compile(loss=tf.losses.MeanSquaredError(),\n",
    "              optimizer=tf.optimizers.Adam(),\n",
    "              metrics=[tf.metrics.MeanAbsoluteError()])\n",
    "\n",
    "history = model.fit_generator(train_generator, epochs=50,\n",
    "                    validation_data=test_generator,\n",
    "                    shuffle=False,\n",
    "                    callbacks=[early_stopping])"
   ]
  },
  {
   "cell_type": "code",
   "execution_count": 23,
   "metadata": {
    "ExecuteTime": {
     "end_time": "2021-12-02T05:49:02.879092Z",
     "start_time": "2021-12-02T05:48:22.253102Z"
    },
    "colab": {
     "base_uri": "https://localhost:8080/",
     "height": 108
    },
    "id": "G4q1O2Hw5tXI",
    "outputId": "95a82019-7a0d-4699-b54a-fab02056cfa6"
   },
   "outputs": [
    {
     "name": "stderr",
     "output_type": "stream",
     "text": [
      "C:\\Users\\Admin\\anaconda3\\lib\\site-packages\\keras\\engine\\training.py:2006: UserWarning: `Model.evaluate_generator` is deprecated and will be removed in a future version. Please use `Model.evaluate`, which supports generators.\n",
      "  warnings.warn('`Model.evaluate_generator` is deprecated and '\n"
     ]
    },
    {
     "data": {
      "text/plain": [
       "[0.0032262210734188557, 0.02952180616557598]"
      ]
     },
     "execution_count": 23,
     "metadata": {},
     "output_type": "execute_result"
    }
   ],
   "source": [
    "model.evaluate_generator(test_generator, verbose=0)  "
   ]
  },
  {
   "cell_type": "code",
   "execution_count": 24,
   "metadata": {
    "ExecuteTime": {
     "end_time": "2021-12-02T05:49:43.730623Z",
     "start_time": "2021-12-02T05:49:02.881091Z"
    },
    "colab": {
     "base_uri": "https://localhost:8080/",
     "height": 91
    },
    "id": "Wx6HG0ZjXodP",
    "outputId": "9f419171-917b-46c7-882d-880417704e32"
   },
   "outputs": [
    {
     "name": "stderr",
     "output_type": "stream",
     "text": [
      "C:\\Users\\Admin\\anaconda3\\lib\\site-packages\\keras\\engine\\training.py:2035: UserWarning: `Model.predict_generator` is deprecated and will be removed in a future version. Please use `Model.predict`, which supports generators.\n",
      "  warnings.warn('`Model.predict_generator` is deprecated and '\n"
     ]
    }
   ],
   "source": [
    "predictions=model.predict_generator(test_generator)"
   ]
  },
  {
   "cell_type": "code",
   "execution_count": 25,
   "metadata": {
    "ExecuteTime": {
     "end_time": "2021-12-02T05:49:43.746609Z",
     "start_time": "2021-12-02T05:49:43.732608Z"
    },
    "colab": {
     "base_uri": "https://localhost:8080/",
     "height": 35
    },
    "id": "kEoR4K3pYDnR",
    "outputId": "665d5cde-f4db-48e3-ab3e-95c8274d4db6"
   },
   "outputs": [
    {
     "data": {
      "text/plain": [
       "3227"
      ]
     },
     "execution_count": 25,
     "metadata": {},
     "output_type": "execute_result"
    }
   ],
   "source": [
    "predictions.shape[0]"
   ]
  },
  {
   "cell_type": "code",
   "execution_count": 26,
   "metadata": {
    "ExecuteTime": {
     "end_time": "2021-12-02T05:49:43.762610Z",
     "start_time": "2021-12-02T05:49:43.749611Z"
    },
    "colab": {
     "base_uri": "https://localhost:8080/",
     "height": 142
    },
    "id": "GMC2ewo0YRDW",
    "outputId": "c26825d8-6128-4ab3-9d1d-e73404c0125d"
   },
   "outputs": [
    {
     "data": {
      "text/plain": [
       "array([[0.07399233],\n",
       "       [0.09715435],\n",
       "       [0.12112327],\n",
       "       ...,\n",
       "       [0.09387156],\n",
       "       [0.25150326],\n",
       "       [0.26937082]], dtype=float32)"
      ]
     },
     "execution_count": 26,
     "metadata": {},
     "output_type": "execute_result"
    }
   ],
   "source": [
    "predictions"
   ]
  },
  {
   "cell_type": "code",
   "execution_count": 27,
   "metadata": {
    "ExecuteTime": {
     "end_time": "2021-12-02T05:49:43.778610Z",
     "start_time": "2021-12-02T05:49:43.764608Z"
    },
    "colab": {
     "base_uri": "https://localhost:8080/",
     "height": 53
    },
    "id": "dzQB2PtOYeMy",
    "outputId": "02a6ee4a-85b9-4f6b-d171-e1d5c0b3c529"
   },
   "outputs": [
    {
     "data": {
      "text/plain": [
       "array([0.3364486 , 0.54205607, 0.28971963, ..., 0.24299065, 0.38317757,\n",
       "       0.39252336])"
      ]
     },
     "execution_count": 27,
     "metadata": {},
     "output_type": "execute_result"
    }
   ],
   "source": [
    "y_test"
   ]
  },
  {
   "cell_type": "code",
   "execution_count": 28,
   "metadata": {
    "ExecuteTime": {
     "end_time": "2021-12-02T05:49:43.794610Z",
     "start_time": "2021-12-02T05:49:43.780608Z"
    },
    "colab": {
     "base_uri": "https://localhost:8080/",
     "height": 142
    },
    "id": "tiw-WJ9f9OUV",
    "outputId": "8f593356-9083-40fa-8482-4657ea6090f8"
   },
   "outputs": [
    {
     "data": {
      "text/plain": [
       "array([[0.3364486 , 0.34297964, 0.30923768, 0.6       ],\n",
       "       [0.54205607, 0.34726688, 0.3055683 , 0.6       ],\n",
       "       [0.28971963, 0.35155413, 0.30455921, 0.6       ],\n",
       "       ...,\n",
       "       [0.24299065, 0.88317256, 0.53866618, 0.37435897],\n",
       "       [0.38317757, 0.87888532, 0.54949087, 0.38717949],\n",
       "       [0.39252336, 0.87459807, 0.53875791, 0.4       ]])"
      ]
     },
     "execution_count": 28,
     "metadata": {},
     "output_type": "execute_result"
    }
   ],
   "source": [
    "x_test"
   ]
  },
  {
   "cell_type": "code",
   "execution_count": 29,
   "metadata": {
    "ExecuteTime": {
     "end_time": "2021-12-02T05:49:43.810607Z",
     "start_time": "2021-12-02T05:49:43.797609Z"
    },
    "colab": {
     "base_uri": "https://localhost:8080/",
     "height": 142
    },
    "id": "3YhtkAbq7hGf",
    "outputId": "c02e0140-ebb9-4246-d6c6-87f483ddabb4"
   },
   "outputs": [
    {
     "data": {
      "text/plain": [
       "array([[0.45337621, 0.20851298, 0.6       ],\n",
       "       [0.47106109, 0.18282726, 0.6       ],\n",
       "       [0.48874598, 0.18466196, 0.6       ],\n",
       "       ...,\n",
       "       [0.88317256, 0.53866618, 0.37435897],\n",
       "       [0.87888532, 0.54949087, 0.38717949],\n",
       "       [0.87459807, 0.53875791, 0.4       ]])"
      ]
     },
     "execution_count": 29,
     "metadata": {},
     "output_type": "execute_result"
    }
   ],
   "source": [
    "x_test[:,1:][win_length:]"
   ]
  },
  {
   "cell_type": "code",
   "execution_count": 30,
   "metadata": {
    "ExecuteTime": {
     "end_time": "2021-12-02T05:49:43.826610Z",
     "start_time": "2021-12-02T05:49:43.813610Z"
    },
    "id": "qR04JJlC6yaM"
   },
   "outputs": [],
   "source": [
    "df_pred=pd.concat([pd.DataFrame(predictions), pd.DataFrame(x_test[:,1:][win_length:])],axis=1)"
   ]
  },
  {
   "cell_type": "code",
   "execution_count": 31,
   "metadata": {
    "ExecuteTime": {
     "end_time": "2021-12-02T05:49:43.857609Z",
     "start_time": "2021-12-02T05:49:43.828612Z"
    },
    "colab": {
     "base_uri": "https://localhost:8080/",
     "height": 416
    },
    "id": "3Fu_2Z9DR7rh",
    "outputId": "548060ab-9951-4f11-c997-9e4381650945"
   },
   "outputs": [
    {
     "data": {
      "text/html": [
       "<div>\n",
       "<style scoped>\n",
       "    .dataframe tbody tr th:only-of-type {\n",
       "        vertical-align: middle;\n",
       "    }\n",
       "\n",
       "    .dataframe tbody tr th {\n",
       "        vertical-align: top;\n",
       "    }\n",
       "\n",
       "    .dataframe thead th {\n",
       "        text-align: right;\n",
       "    }\n",
       "</style>\n",
       "<table border=\"1\" class=\"dataframe\">\n",
       "  <thead>\n",
       "    <tr style=\"text-align: right;\">\n",
       "      <th></th>\n",
       "      <th>0</th>\n",
       "      <th>0</th>\n",
       "      <th>1</th>\n",
       "      <th>2</th>\n",
       "    </tr>\n",
       "  </thead>\n",
       "  <tbody>\n",
       "    <tr>\n",
       "      <th>0</th>\n",
       "      <td>0.073992</td>\n",
       "      <td>0.453376</td>\n",
       "      <td>0.208513</td>\n",
       "      <td>0.600000</td>\n",
       "    </tr>\n",
       "    <tr>\n",
       "      <th>1</th>\n",
       "      <td>0.097154</td>\n",
       "      <td>0.471061</td>\n",
       "      <td>0.182827</td>\n",
       "      <td>0.600000</td>\n",
       "    </tr>\n",
       "    <tr>\n",
       "      <th>2</th>\n",
       "      <td>0.121123</td>\n",
       "      <td>0.488746</td>\n",
       "      <td>0.184662</td>\n",
       "      <td>0.600000</td>\n",
       "    </tr>\n",
       "    <tr>\n",
       "      <th>3</th>\n",
       "      <td>0.328448</td>\n",
       "      <td>0.506431</td>\n",
       "      <td>0.193996</td>\n",
       "      <td>0.600000</td>\n",
       "    </tr>\n",
       "    <tr>\n",
       "      <th>4</th>\n",
       "      <td>0.153224</td>\n",
       "      <td>0.524116</td>\n",
       "      <td>0.181818</td>\n",
       "      <td>0.600000</td>\n",
       "    </tr>\n",
       "    <tr>\n",
       "      <th>...</th>\n",
       "      <td>...</td>\n",
       "      <td>...</td>\n",
       "      <td>...</td>\n",
       "      <td>...</td>\n",
       "    </tr>\n",
       "    <tr>\n",
       "      <th>3222</th>\n",
       "      <td>0.092574</td>\n",
       "      <td>0.891747</td>\n",
       "      <td>0.537657</td>\n",
       "      <td>0.348718</td>\n",
       "    </tr>\n",
       "    <tr>\n",
       "      <th>3223</th>\n",
       "      <td>0.105503</td>\n",
       "      <td>0.887460</td>\n",
       "      <td>0.536006</td>\n",
       "      <td>0.361538</td>\n",
       "    </tr>\n",
       "    <tr>\n",
       "      <th>3224</th>\n",
       "      <td>0.093872</td>\n",
       "      <td>0.883173</td>\n",
       "      <td>0.538666</td>\n",
       "      <td>0.374359</td>\n",
       "    </tr>\n",
       "    <tr>\n",
       "      <th>3225</th>\n",
       "      <td>0.251503</td>\n",
       "      <td>0.878885</td>\n",
       "      <td>0.549491</td>\n",
       "      <td>0.387179</td>\n",
       "    </tr>\n",
       "    <tr>\n",
       "      <th>3226</th>\n",
       "      <td>0.269371</td>\n",
       "      <td>0.874598</td>\n",
       "      <td>0.538758</td>\n",
       "      <td>0.400000</td>\n",
       "    </tr>\n",
       "  </tbody>\n",
       "</table>\n",
       "<p>3227 rows × 4 columns</p>\n",
       "</div>"
      ],
      "text/plain": [
       "             0         0         1         2\n",
       "0     0.073992  0.453376  0.208513  0.600000\n",
       "1     0.097154  0.471061  0.182827  0.600000\n",
       "2     0.121123  0.488746  0.184662  0.600000\n",
       "3     0.328448  0.506431  0.193996  0.600000\n",
       "4     0.153224  0.524116  0.181818  0.600000\n",
       "...        ...       ...       ...       ...\n",
       "3222  0.092574  0.891747  0.537657  0.348718\n",
       "3223  0.105503  0.887460  0.536006  0.361538\n",
       "3224  0.093872  0.883173  0.538666  0.374359\n",
       "3225  0.251503  0.878885  0.549491  0.387179\n",
       "3226  0.269371  0.874598  0.538758  0.400000\n",
       "\n",
       "[3227 rows x 4 columns]"
      ]
     },
     "execution_count": 31,
     "metadata": {},
     "output_type": "execute_result"
    }
   ],
   "source": [
    "df_pred"
   ]
  },
  {
   "cell_type": "code",
   "execution_count": 32,
   "metadata": {
    "ExecuteTime": {
     "end_time": "2021-12-02T05:49:43.873609Z",
     "start_time": "2021-12-02T05:49:43.859610Z"
    },
    "id": "noykl7lh9hmT"
   },
   "outputs": [],
   "source": [
    "rev_trans=scaler.inverse_transform(df_pred)"
   ]
  },
  {
   "cell_type": "code",
   "execution_count": 33,
   "metadata": {
    "ExecuteTime": {
     "end_time": "2021-12-02T05:49:43.889608Z",
     "start_time": "2021-12-02T05:49:43.876617Z"
    },
    "colab": {
     "base_uri": "https://localhost:8080/",
     "height": 142
    },
    "id": "D2vcu4tBAf4n",
    "outputId": "4f9b26c7-9c94-4643-964d-f28b33dbfda1"
   },
   "outputs": [
    {
     "data": {
      "text/plain": [
       "array([[ 89.17178974,   9.1       ,  34.6       ,  40.        ],\n",
       "       [113.95515352,   9.65      ,  33.66666667,  40.        ],\n",
       "       [139.60189804,  10.2       ,  33.73333333,  40.        ],\n",
       "       ...,\n",
       "       [110.44257313,  22.46666667,  46.59666667,  25.33333333],\n",
       "       [279.10848707,  22.33333333,  46.99      ,  26.16666667],\n",
       "       [298.22678179,  22.2       ,  46.6       ,  27.        ]])"
      ]
     },
     "execution_count": 33,
     "metadata": {},
     "output_type": "execute_result"
    }
   ],
   "source": [
    "rev_trans"
   ]
  },
  {
   "cell_type": "code",
   "execution_count": 34,
   "metadata": {
    "ExecuteTime": {
     "end_time": "2021-12-02T05:49:43.904649Z",
     "start_time": "2021-12-02T05:49:43.891607Z"
    },
    "id": "5eopbjZZBRUs"
   },
   "outputs": [],
   "source": [
    "df_final=df_input[predictions.shape[0]*-1:]"
   ]
  },
  {
   "cell_type": "code",
   "execution_count": 35,
   "metadata": {
    "ExecuteTime": {
     "end_time": "2021-12-02T05:49:43.920650Z",
     "start_time": "2021-12-02T05:49:43.906607Z"
    },
    "colab": {
     "base_uri": "https://localhost:8080/",
     "height": 106
    },
    "id": "iEgc_FyMBjSO",
    "outputId": "572c5b45-d879-4967-adaf-399ad439074c"
   },
   "outputs": [
    {
     "data": {
      "text/plain": [
       "Appliances    3227\n",
       "T_out         3227\n",
       "RH_1          3227\n",
       "Visibility    3227\n",
       "dtype: int64"
      ]
     },
     "execution_count": 35,
     "metadata": {},
     "output_type": "execute_result"
    }
   ],
   "source": [
    "df_final.count()"
   ]
  },
  {
   "cell_type": "code",
   "execution_count": 36,
   "metadata": {
    "ExecuteTime": {
     "end_time": "2021-12-02T05:49:43.936652Z",
     "start_time": "2021-12-02T05:49:43.922611Z"
    },
    "colab": {
     "base_uri": "https://localhost:8080/",
     "height": 144
    },
    "id": "D1VdgBdB-aWE",
    "outputId": "2ce990ca-f48e-4a5a-b220-60b73f60b818"
   },
   "outputs": [
    {
     "name": "stderr",
     "output_type": "stream",
     "text": [
      "<ipython-input-36-62669267b60b>:1: SettingWithCopyWarning: \n",
      "A value is trying to be set on a copy of a slice from a DataFrame.\n",
      "Try using .loc[row_indexer,col_indexer] = value instead\n",
      "\n",
      "See the caveats in the documentation: https://pandas.pydata.org/pandas-docs/stable/user_guide/indexing.html#returning-a-view-versus-a-copy\n",
      "  df_final['App_Pred']=rev_trans[:,0]\n"
     ]
    }
   ],
   "source": [
    "df_final['App_Pred']=rev_trans[:,0]"
   ]
  },
  {
   "cell_type": "code",
   "execution_count": 37,
   "metadata": {
    "ExecuteTime": {
     "end_time": "2021-12-02T05:49:43.967611Z",
     "start_time": "2021-12-02T05:49:43.940613Z"
    },
    "colab": {
     "base_uri": "https://localhost:8080/",
     "height": 416
    },
    "id": "Ym90OS9J_-6O",
    "outputId": "02cee54b-fd0c-45e1-c792-bcfb2e837780"
   },
   "outputs": [
    {
     "data": {
      "text/html": [
       "<div>\n",
       "<style scoped>\n",
       "    .dataframe tbody tr th:only-of-type {\n",
       "        vertical-align: middle;\n",
       "    }\n",
       "\n",
       "    .dataframe tbody tr th {\n",
       "        vertical-align: top;\n",
       "    }\n",
       "\n",
       "    .dataframe thead th {\n",
       "        text-align: right;\n",
       "    }\n",
       "</style>\n",
       "<table border=\"1\" class=\"dataframe\">\n",
       "  <thead>\n",
       "    <tr style=\"text-align: right;\">\n",
       "      <th></th>\n",
       "      <th>Appliances</th>\n",
       "      <th>T_out</th>\n",
       "      <th>RH_1</th>\n",
       "      <th>Visibility</th>\n",
       "      <th>App_Pred</th>\n",
       "    </tr>\n",
       "  </thead>\n",
       "  <tbody>\n",
       "    <tr>\n",
       "      <th>16508</th>\n",
       "      <td>90</td>\n",
       "      <td>9.100000</td>\n",
       "      <td>34.600000</td>\n",
       "      <td>40.000000</td>\n",
       "      <td>89.171790</td>\n",
       "    </tr>\n",
       "    <tr>\n",
       "      <th>16509</th>\n",
       "      <td>120</td>\n",
       "      <td>9.650000</td>\n",
       "      <td>33.666667</td>\n",
       "      <td>40.000000</td>\n",
       "      <td>113.955154</td>\n",
       "    </tr>\n",
       "    <tr>\n",
       "      <th>16510</th>\n",
       "      <td>390</td>\n",
       "      <td>10.200000</td>\n",
       "      <td>33.733333</td>\n",
       "      <td>40.000000</td>\n",
       "      <td>139.601898</td>\n",
       "    </tr>\n",
       "    <tr>\n",
       "      <th>16511</th>\n",
       "      <td>240</td>\n",
       "      <td>10.750000</td>\n",
       "      <td>34.072500</td>\n",
       "      <td>40.000000</td>\n",
       "      <td>361.439581</td>\n",
       "    </tr>\n",
       "    <tr>\n",
       "      <th>16512</th>\n",
       "      <td>120</td>\n",
       "      <td>11.300000</td>\n",
       "      <td>33.630000</td>\n",
       "      <td>40.000000</td>\n",
       "      <td>173.949559</td>\n",
       "    </tr>\n",
       "    <tr>\n",
       "      <th>...</th>\n",
       "      <td>...</td>\n",
       "      <td>...</td>\n",
       "      <td>...</td>\n",
       "      <td>...</td>\n",
       "      <td>...</td>\n",
       "    </tr>\n",
       "    <tr>\n",
       "      <th>19730</th>\n",
       "      <td>100</td>\n",
       "      <td>22.733333</td>\n",
       "      <td>46.560000</td>\n",
       "      <td>23.666667</td>\n",
       "      <td>109.053726</td>\n",
       "    </tr>\n",
       "    <tr>\n",
       "      <th>19731</th>\n",
       "      <td>90</td>\n",
       "      <td>22.600000</td>\n",
       "      <td>46.500000</td>\n",
       "      <td>24.500000</td>\n",
       "      <td>122.888457</td>\n",
       "    </tr>\n",
       "    <tr>\n",
       "      <th>19732</th>\n",
       "      <td>270</td>\n",
       "      <td>22.466667</td>\n",
       "      <td>46.596667</td>\n",
       "      <td>25.333333</td>\n",
       "      <td>110.442573</td>\n",
       "    </tr>\n",
       "    <tr>\n",
       "      <th>19733</th>\n",
       "      <td>420</td>\n",
       "      <td>22.333333</td>\n",
       "      <td>46.990000</td>\n",
       "      <td>26.166667</td>\n",
       "      <td>279.108487</td>\n",
       "    </tr>\n",
       "    <tr>\n",
       "      <th>19734</th>\n",
       "      <td>430</td>\n",
       "      <td>22.200000</td>\n",
       "      <td>46.600000</td>\n",
       "      <td>27.000000</td>\n",
       "      <td>298.226782</td>\n",
       "    </tr>\n",
       "  </tbody>\n",
       "</table>\n",
       "<p>3227 rows × 5 columns</p>\n",
       "</div>"
      ],
      "text/plain": [
       "       Appliances      T_out       RH_1  Visibility    App_Pred\n",
       "16508          90   9.100000  34.600000   40.000000   89.171790\n",
       "16509         120   9.650000  33.666667   40.000000  113.955154\n",
       "16510         390  10.200000  33.733333   40.000000  139.601898\n",
       "16511         240  10.750000  34.072500   40.000000  361.439581\n",
       "16512         120  11.300000  33.630000   40.000000  173.949559\n",
       "...           ...        ...        ...         ...         ...\n",
       "19730         100  22.733333  46.560000   23.666667  109.053726\n",
       "19731          90  22.600000  46.500000   24.500000  122.888457\n",
       "19732         270  22.466667  46.596667   25.333333  110.442573\n",
       "19733         420  22.333333  46.990000   26.166667  279.108487\n",
       "19734         430  22.200000  46.600000   27.000000  298.226782\n",
       "\n",
       "[3227 rows x 5 columns]"
      ]
     },
     "execution_count": 37,
     "metadata": {},
     "output_type": "execute_result"
    }
   ],
   "source": [
    "df_final"
   ]
  },
  {
   "cell_type": "code",
   "execution_count": 38,
   "metadata": {
    "ExecuteTime": {
     "end_time": "2021-12-02T05:49:44.203609Z",
     "start_time": "2021-12-02T05:49:43.970612Z"
    },
    "colab": {
     "base_uri": "https://localhost:8080/",
     "height": 501
    },
    "id": "Ig7S76aZApyp",
    "outputId": "5bd338b3-d7b5-4b0f-bfcc-33cd3b97fa7f"
   },
   "outputs": [
    {
     "data": {
      "text/plain": [
       "<AxesSubplot:>"
      ]
     },
     "execution_count": 38,
     "metadata": {},
     "output_type": "execute_result"
    },
    {
     "data": {
      "image/png": "[encoded data removed]",
      "text/plain": [
       "<Figure size 720x576 with 1 Axes>"
      ]
     },
     "metadata": {
      "needs_background": "light"
     },
     "output_type": "display_data"
    }
   ],
   "source": [
    "df_final[['Appliances','App_Pred']].plot()"
   ]
  },
  {
   "cell_type": "code",
   "execution_count": null,
   "metadata": {
    "id": "grtp4xctGwDY"
   },
   "outputs": [],
   "source": []
  }
 ],
 "metadata": {
  "accelerator": "GPU",
  "colab": {
   "authorship_tag": "ABX9TyP9xZLy1nz/eW6c0Yy8dif0",
   "include_colab_link": true,
   "name": "Multivariate Time Series Modeling using LSTM.ipynb",
   "provenance": []
  },
  "kernelspec": {
   "display_name": "Python 3",
   "language": "python",
   "name": "python3"
  },
  "language_info": {
   "codemirror_mode": {
    "name": "ipython",
    "version": 3
   },
   "file_extension": ".py",
   "mimetype": "text/x-python",
   "name": "python",
   "nbconvert_exporter": "python",
   "pygments_lexer": "ipython3",
   "version": "3.8.8"
  }
 },
 "nbformat": 4,
 "nbformat_minor": 1
}
